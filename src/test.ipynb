{
 "cells": [
  {
   "cell_type": "code",
   "execution_count": 2,
   "id": "49bbf7f8",
   "metadata": {},
   "outputs": [],
   "source": [
    "import torch\n",
    "import torch.nn as nn\n",
    "from torch.utils.data import DataLoader\n",
    "import torchvision\n",
    "from torchvision import transforms\n",
    "import matplotlib.pyplot as plt\n",
    "import torch\n",
    "import torch.nn as nn\n",
    "import torch.optim as optim\n",
    "import torchvision\n",
    "import torchvision.transforms as transforms\n",
    "from torch.utils.data import DataLoader, Dataset\n",
    "from torchvision.models import resnet18\n",
    "import numpy as np\n",
    "import torchvision.transforms as transforms\n",
    "import matplotlib.pyplot as plt\n",
    "import numpy as np\n",
    "import torch.nn.functional as F\n",
    "import torch.optim as optim\n",
    "from torch.optim.lr_scheduler import ReduceLROnPlateau\n",
    "from torch.utils.data import DataLoader, TensorDataset\n",
    "import torch\n",
    "from pytorch_grad_cam import GradCAM\n",
    "from pytorch_grad_cam.utils.model_targets import ClassifierOutputTarget\n",
    "from pytorch_grad_cam.utils.image import show_cam_on_image\n",
    "import matplotlib.pyplot as plt\n",
    "import numpy as np\n",
    "import sys\n",
    "sys.path.append('/home/liang/zijian/rayDefense')\n",
    "\n",
    "device = torch.device(\"cuda\")\n",
    "\n",
    "from src.vae import FlexibleVAE\n",
    "from src.calASR import ReconEvaluator\n",
    "from src.getSaliency import GradCAMLoader\n",
    "from src.getBadnet import PoisonedTestLoader\n"
   ]
  },
  {
   "cell_type": "code",
   "execution_count": 6,
   "id": "3c4162a2",
   "metadata": {},
   "outputs": [],
   "source": [
    "dataset_choice = 'cifar10'\n",
    "threshold = 0.8"
   ]
  },
  {
   "cell_type": "code",
   "execution_count": 7,
   "id": "9c849824",
   "metadata": {},
   "outputs": [],
   "source": [
    "if dataset_choice == 'imagenette':\n",
    "    transform = transforms.Compose([\n",
    "        transforms.Resize(224),\n",
    "        transforms.CenterCrop(224),\n",
    "        transforms.ToTensor(),\n",
    "        transforms.Normalize(mean=[0.485, 0.456, 0.406],\n",
    "                             std=[0.229, 0.224, 0.225])\n",
    "    ])\n",
    "    trainset = torchvision.datasets.Imagenette(\n",
    "        root='./data', split='train', download=True, transform=transform\n",
    "    )\n",
    "    testset = torchvision.datasets.Imagenette(\n",
    "        root='./data', split='val', download=True, transform=transform\n",
    "    )\n",
    "\n",
    "elif dataset_choice == 'cifar10':\n",
    "    transform = transforms.Compose([\n",
    "        transforms.ToTensor(),\n",
    "        transforms.Normalize(mean=[0.4914, 0.4822, 0.4465],\n",
    "                             std=[0.247, 0.243, 0.261])\n",
    "    ])\n",
    "    trainset = torchvision.datasets.CIFAR10(\n",
    "        root='./data', train=True, download=True, transform=transform\n",
    "    )\n",
    "    testset = torchvision.datasets.CIFAR10(\n",
    "        root='./data', train=False, download=True, transform=transform\n",
    "    )\n",
    "\n",
    "else:\n",
    "    raise ValueError(\"dataset_choice must be 'imagenette' or 'cifar10'\")\n",
    "\n",
    "trainloader = DataLoader(trainset, batch_size=128, shuffle=True, num_workers=2)\n",
    "testloader  = DataLoader(testset, batch_size=128, shuffle=False, num_workers=2)\n"
   ]
  },
  {
   "cell_type": "code",
   "execution_count": 19,
   "id": "87a49c54",
   "metadata": {},
   "outputs": [],
   "source": [
    "poi_loader_obj = PoisonedTestLoader(testloader, trigger_size=3, target_label=0, batch_size=128)\n",
    "poi_testloader = poi_loader_obj.get_poi_testloader()\n",
    "\n",
    "gradcam_loader_obj = GradCAMLoader(model, poi_testloader, device='cuda', target_layer_name='layer3', threshold=0.8)\n",
    "gradcam_testloader = gradcam_loader_obj.get_gradcam_loader()"
   ]
  },
  {
   "cell_type": "code",
   "execution_count": 20,
   "id": "4ad44968",
   "metadata": {},
   "outputs": [
    {
     "data": {
      "text/plain": [
       "<All keys matched successfully>"
      ]
     },
     "execution_count": 20,
     "metadata": {},
     "output_type": "execute_result"
    }
   ],
   "source": [
    "num_classes =10\n",
    "model = resnet18(pretrained=False)\n",
    "model.fc = nn.Linear(model.fc.in_features, num_classes)\n",
    "model = model.to(device)\n",
    "#checkpoint_path = \"./badmodel/resnet18_imagenette_badnet_epoch40.pth\"\n",
    "checkpoint_path = \"../resnet18_badnet_epoch40.pth\"\n",
    "model.load_state_dict(torch.load(checkpoint_path, map_location=device))\n"
   ]
  },
  {
   "cell_type": "code",
   "execution_count": 21,
   "id": "6e89129b",
   "metadata": {},
   "outputs": [
    {
     "data": {
      "text/plain": [
       "<All keys matched successfully>"
      ]
     },
     "execution_count": 21,
     "metadata": {},
     "output_type": "execute_result"
    }
   ],
   "source": [
    "\n",
    "latent_dim = 1024\n",
    "input_size = 32\n",
    "vae = FlexibleVAE(latent_dim=latent_dim, input_size=input_size).to(device)\n",
    "#checkpoint_path = \"./vaemodel/dataimagenette_latent1024_epoch200.pth\"\n",
    "checkpoint_path = \"../vaemodel/datacifar10_latent1024_epoch1200.pth\"\n",
    "vae.load_state_dict(torch.load(checkpoint_path, map_location=device))"
   ]
  },
  {
   "cell_type": "code",
   "execution_count": 22,
   "id": "60dcef3a",
   "metadata": {},
   "outputs": [
    {
     "name": "stdout",
     "output_type": "stream",
     "text": [
      "Accuracy on imgs_poisoned: 93.75%\n",
      "Accuracy on whole_images: 9.38%\n",
      "Accuracy on recon_images: 14.06%\n"
     ]
    },
    {
     "data": {
      "text/plain": [
       "(0.9375, 0.09375, 0.140625)"
      ]
     },
     "execution_count": 22,
     "metadata": {},
     "output_type": "execute_result"
    }
   ],
   "source": [
    "\n",
    "recon_evaluator = ReconEvaluator(model, vae, gradcam_testloader, device='cuda', batch_size=128)\n",
    "recon_loader = recon_evaluator.get_recon_loader()\n",
    "recon_evaluator.test_accuracy()\n"
   ]
  },
  {
   "cell_type": "code",
   "execution_count": 8,
   "id": "58a64c1e",
   "metadata": {},
   "outputs": [
    {
     "name": "stderr",
     "output_type": "stream",
     "text": [
      "/home/liang/miniconda3/envs/patchbackdoor/lib/python3.10/site-packages/torchvision/models/_utils.py:208: UserWarning: The parameter 'pretrained' is deprecated since 0.13 and may be removed in the future, please use 'weights' instead.\n",
      "  warnings.warn(\n",
      "/home/liang/miniconda3/envs/patchbackdoor/lib/python3.10/site-packages/torchvision/models/_utils.py:223: UserWarning: Arguments other than a weight enum or `None` for 'weights' are deprecated since 0.13 and may be removed in the future. The current behavior is equivalent to passing `weights=None`.\n",
      "  warnings.warn(msg)\n"
     ]
    },
    {
     "name": "stdout",
     "output_type": "stream",
     "text": [
      "Accuracy on imgs_poisoned: 93.75%\n",
      "Accuracy on whole_images: 6.25%\n",
      "Accuracy on recon_images: 14.84%\n"
     ]
    },
    {
     "data": {
      "text/plain": [
       "(0.9375, 0.0625, 0.1484375)"
      ]
     },
     "execution_count": 8,
     "metadata": {},
     "output_type": "execute_result"
    }
   ],
   "source": [
    "from src.main import PoisonedReconPipeline\n",
    "pipeline = PoisonedReconPipeline(\n",
    "    testloader=testloader,\n",
    "    model_ckpt=\"../resnet18_badnet_epoch40.pth\",\n",
    "    vae_ckpt=\"../vaemodel/datacifar10_latent1024_epoch1200.pth\",\n",
    "    latent_dim=1024,\n",
    "    input_size=32,\n",
    "    target_label=0,\n",
    "    trigger_size=3,\n",
    "    gradcam_layer='layer3',\n",
    "    gradcam_threshold=0.8,\n",
    "    batch_size=128,\n",
    "    device='cuda'\n",
    ")\n",
    "\n",
    "recon_loader = pipeline.get_recon_loader()\n",
    "pipeline.test_accuracy()\n"
   ]
  }
 ],
 "metadata": {
  "kernelspec": {
   "display_name": "patchbackdoor",
   "language": "python",
   "name": "python3"
  },
  "language_info": {
   "codemirror_mode": {
    "name": "ipython",
    "version": 3
   },
   "file_extension": ".py",
   "mimetype": "text/x-python",
   "name": "python",
   "nbconvert_exporter": "python",
   "pygments_lexer": "ipython3",
   "version": "3.10.17"
  }
 },
 "nbformat": 4,
 "nbformat_minor": 5
}
